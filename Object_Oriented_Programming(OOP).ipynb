{
  "nbformat": 4,
  "nbformat_minor": 0,
  "metadata": {
    "colab": {
      "provenance": [],
      "authorship_tag": "ABX9TyNFIKeglBT4N8rSD7kNhCAZ",
      "include_colab_link": true
    },
    "kernelspec": {
      "name": "python3",
      "display_name": "Python 3"
    },
    "language_info": {
      "name": "python"
    }
  },
  "cells": [
    {
      "cell_type": "markdown",
      "metadata": {
        "id": "view-in-github",
        "colab_type": "text"
      },
      "source": [
        "<a href=\"https://colab.research.google.com/github/alixosravi/Object_Oriented-Programming-OOP-/blob/main/Object_Oriented_Programming(OOP).ipynb\" target=\"_parent\"><img src=\"https://colab.research.google.com/assets/colab-badge.svg\" alt=\"Open In Colab\"/></a>"
      ]
    },
    {
      "cell_type": "code",
      "execution_count": 8,
      "metadata": {
        "id": "gNxqHHiY_82Z"
      },
      "outputs": [],
      "source": [
        "class Car:\n",
        "  price_change_amount = 1.4\n",
        "  num_cars = 0\n",
        "\n",
        "  def __init__(self, make, model, price, color=None):\n",
        "    self.make = make\n",
        "    self.model = model\n",
        "    self.price = price\n",
        "    self.inv_code = f\"{model}-{price}\"\n",
        "    self.color =  color\n",
        "    Car.num_cars +=1\n",
        "    \n",
        "  def print_info(self):\n",
        "    print(f\"{self.make} - {self.model} --> ${self.price}\")\n",
        "\n",
        "  def get_buyers_info(self, num_buyers):\n",
        "    self.buyers_list = []\n",
        "\n",
        "    for i in range(num_buyers):\n",
        "        buyer = input(f\"Please enter buyer #{i} name: \")\n",
        "        self.buyers_list.append(buyer)\n",
        "\n",
        "    print(f\"{self.buyers_list} bought the following car:\")\n",
        "    self.print_info()\n",
        "  def change_price(self):\n",
        "    self.price = int(self.price_change_amount * self.price) #self.price_change_amount == Car.price_change_amount\n",
        "  \n",
        "  @classmethod\n",
        "  def set_price_change_amount(cls, amount):\n",
        "    cls.price_change_mount = amount\n",
        "\n",
        "\n",
        "  @classmethod\n",
        "  def from_string(cls, input_string):\n",
        "    make, model, price = input_string.split(' ')\n",
        "    price = int(price)\n",
        "    return cls(make, model, price)\n",
        "\n",
        "  @staticmethod\n",
        "  def gas_price_info(gas_price):\n",
        "    if gas_price < 3:\n",
        "      print(\"It's a good time to buy a car!\")\n",
        "    else:\n",
        "      print(\"Just use bike!\")\n",
        "  "
      ]
    },
    {
      "cell_type": "code",
      "source": [
        "class Electriccar(Car):\n",
        "  price_change_amount = 0.8\n",
        "\n",
        "  def __init__(self, make, model, price, color, batt_cap, similar_diesel_cars=None):\n",
        "    #Car.__init__(self, make, model, price, color) is equal with spuer()...\n",
        "    super().__init__(make, model, price, color)\n",
        "    self.similar_diesel_cars = similar_diesel_cars\n",
        "\n",
        "    self.batt_cap = batt_cap\n",
        "    if self.similar_diesel_cars is None:\n",
        "      self.similar_diesel_cars = []\n",
        "    else:\n",
        "      self.similar_diesel_cars = similar_diesel_cars\n",
        "    \n",
        "  def add_sim_car(self, car):\n",
        "    if car not in self.similar_diesel_cars:\n",
        "      self.similar_diesel_cars.append(car)\n",
        "\n",
        "  def removed_sim_car(self, car):\n",
        "    if car in self.similar_diesel_cars:\n",
        "      self.similar_diesel_cars.removed(car)\n",
        "\n",
        "  def print_sim_cars(self):\n",
        "    for car in self.similar_diesel_cars:\n",
        "      car.print_info()\n",
        "\n",
        "class DieselCar(Car):\n",
        "  price_change_amount = 0.95\n",
        "\n",
        "  def __init__(self, make, model, price, color, fuel_cap):\n",
        "    #Car.__init__(self, make, model, price, color) is equal with spuer()...\n",
        "    super().__init__(make, model, price, color)\n",
        "    self.fuel_cap = fuel_cap\n"
      ],
      "metadata": {
        "id": "SPswlD0doFWR"
      },
      "execution_count": 27,
      "outputs": []
    },
    {
      "cell_type": "code",
      "source": [
        "elect_car_1 = Electriccar('Tesla', 'Model3', 40000, 'White', 85)\n",
        "\n",
        "d_car_1 = DieselCar('Audi', 'TT', 49000, 'Red', 12)\n",
        "d_car_2 = DieselCar('BMW', 'X3', 41000, 'Black', 13)"
      ],
      "metadata": {
        "id": "J7xW74ZHoY-I"
      },
      "execution_count": 28,
      "outputs": []
    },
    {
      "cell_type": "code",
      "source": [
        "elect_car_1.add_sim_car(d_car_1)\n",
        "elect_car_1.add_sim_car(d_car_2)\n",
        "elect_car_1.print_sim_cars()"
      ],
      "metadata": {
        "colab": {
          "base_uri": "https://localhost:8080/"
        },
        "id": "S0tdA1qIpxgB",
        "outputId": "417650b7-6f63-4f60-f1ae-06f9e7325e1b"
      },
      "execution_count": 33,
      "outputs": [
        {
          "output_type": "stream",
          "name": "stdout",
          "text": [
            "Audi - TT --> $49000\n",
            "BMW - X3 --> $41000\n"
          ]
        }
      ]
    },
    {
      "cell_type": "code",
      "source": [
        "isinstance(elect_car_1, DieselCar)"
      ],
      "metadata": {
        "colab": {
          "base_uri": "https://localhost:8080/"
        },
        "id": "GAAZFv4Y--K1",
        "outputId": "6f83537d-c520-4f47-cb45-61200c83b75b"
      },
      "execution_count": 36,
      "outputs": [
        {
          "output_type": "execute_result",
          "data": {
            "text/plain": [
              "False"
            ]
          },
          "metadata": {},
          "execution_count": 36
        }
      ]
    },
    {
      "cell_type": "code",
      "source": [
        "issubclass(DieselCar, Car)"
      ],
      "metadata": {
        "colab": {
          "base_uri": "https://localhost:8080/"
        },
        "id": "V9wjT5PS_Z8O",
        "outputId": "b03bf6d0-8e8b-49a0-a70b-c35380b3796a"
      },
      "execution_count": 40,
      "outputs": [
        {
          "output_type": "execute_result",
          "data": {
            "text/plain": [
              "True"
            ]
          },
          "metadata": {},
          "execution_count": 40
        }
      ]
    },
    {
      "cell_type": "code",
      "source": [
        "print(help(Electriccar))"
      ],
      "metadata": {
        "id": "WS_pCQ_Qo2Ih"
      },
      "execution_count": null,
      "outputs": []
    },
    {
      "cell_type": "code",
      "source": [
        "car_str_1 = 'BMW X50 65000'\n",
        "new_car = Car.from_string(car_str_1)\n"
      ],
      "metadata": {
        "id": "XczesBeVlg7o"
      },
      "execution_count": null,
      "outputs": []
    },
    {
      "cell_type": "code",
      "source": [
        "new_car.price"
      ],
      "metadata": {
        "colab": {
          "base_uri": "https://localhost:8080/"
        },
        "id": "Su3qcNTkl_Ap",
        "outputId": "4ca9963f-8306-41dc-c0c9-69807a8886c7"
      },
      "execution_count": null,
      "outputs": [
        {
          "output_type": "execute_result",
          "data": {
            "text/plain": [
              "65000"
            ]
          },
          "metadata": {},
          "execution_count": 9
        }
      ]
    },
    {
      "cell_type": "code",
      "source": [
        "Car.set_price_change_amount(1.8)"
      ],
      "metadata": {
        "id": "mELGdloQjqKS"
      },
      "execution_count": null,
      "outputs": []
    },
    {
      "cell_type": "code",
      "source": [
        "Car.price_change_amount"
      ],
      "metadata": {
        "id": "oPskqWNKjwoW"
      },
      "execution_count": null,
      "outputs": []
    },
    {
      "cell_type": "code",
      "source": [
        "car_1 = Car('Toyota', 'Corolla', 20000)\n",
        "car_2 = Car('Honda', 'Civic', 23000, 'White')\n",
        "car_1.gas_price_info(2)"
      ],
      "metadata": {
        "id": "Q-pqKJAABH5y",
        "colab": {
          "base_uri": "https://localhost:8080/"
        },
        "outputId": "c910a60b-67aa-4655-c8e1-12b30f0de3d7"
      },
      "execution_count": null,
      "outputs": [
        {
          "output_type": "stream",
          "name": "stdout",
          "text": [
            "It's a good time to buy a car!\n"
          ]
        }
      ]
    },
    {
      "cell_type": "code",
      "source": [
        "car_2.get_buyers_info(2)"
      ],
      "metadata": {
        "id": "-wlEXT6NMNPF"
      },
      "execution_count": null,
      "outputs": []
    },
    {
      "cell_type": "code",
      "source": [
        "print(car_1.price)\n",
        "car_1.change_price()\n",
        "print(car_1.price)"
      ],
      "metadata": {
        "id": "4ZPRh5tYOMtC"
      },
      "execution_count": null,
      "outputs": []
    },
    {
      "cell_type": "code",
      "source": [
        "print(car_1.__dict__)"
      ],
      "metadata": {
        "id": "CvMh_N5pPe24"
      },
      "execution_count": null,
      "outputs": []
    },
    {
      "cell_type": "code",
      "source": [
        "car_1.price_change_amount = 1.8"
      ],
      "metadata": {
        "id": "mzjaHTl2Rp60"
      },
      "execution_count": null,
      "outputs": []
    },
    {
      "cell_type": "code",
      "source": [
        "print(car_1.price_change_amount)\n",
        "print(car_2.price_change_amount)"
      ],
      "metadata": {
        "id": "jCnjPf8-SR0B"
      },
      "execution_count": null,
      "outputs": []
    },
    {
      "cell_type": "code",
      "source": [
        "print(car_1.__dict__)\n",
        "print(car_2.__dict__)"
      ],
      "metadata": {
        "id": "5yBt5-79SZKF"
      },
      "execution_count": null,
      "outputs": []
    },
    {
      "cell_type": "code",
      "source": [
        "print(Car.num_cars)  # 0\n",
        "\n",
        "car_1 = Car('Toyota', 'Corolla', 20000)\n",
        "car_2 = Car('Honad', 'Civic', 23000)\n",
        "\n",
        "print(Car.num_cars)\n"
      ],
      "metadata": {
        "colab": {
          "base_uri": "https://localhost:8080/"
        },
        "id": "QjgY1PDmSoVm",
        "outputId": "9f7837ce-8d14-4117-e70e-ae2d06682fd7"
      },
      "execution_count": null,
      "outputs": [
        {
          "output_type": "stream",
          "name": "stdout",
          "text": [
            "0\n",
            "2\n"
          ]
        }
      ]
    },
    {
      "cell_type": "code",
      "source": [
        "class Car:\n",
        "  \n",
        "  def __init__(self, make, model, price):\n",
        "    self.make = make\n",
        "    self.model = model\n",
        "    self.price = price\n",
        "\n",
        "  def __str__(self):\n",
        "    return f\"{self.make}, {self.model}, {self.price}\"\n",
        "\n",
        "  def __repr__(self): #Is approximately equal to Help!\n",
        "    return f\"Car('{self.make}', '{self.model}', {self.price})\"\n",
        "\n",
        "  def __add__(self, other):\n",
        "    return self.price + other.price"
      ],
      "metadata": {
        "id": "PcW4dEEYTws3"
      },
      "execution_count": 56,
      "outputs": []
    },
    {
      "cell_type": "code",
      "source": [
        "car_1 = Car('Toyota', 'Corolla', 20000)\n",
        "car_2 = Car('Honda', 'Civic', 23000)"
      ],
      "metadata": {
        "id": "WsIurKXUAJCc"
      },
      "execution_count": 57,
      "outputs": []
    },
    {
      "cell_type": "code",
      "source": [
        "car_1 + car_2"
      ],
      "metadata": {
        "colab": {
          "base_uri": "https://localhost:8080/"
        },
        "id": "s0xThtg9C3LY",
        "outputId": "669f8594-c99f-4866-f969-24795cd60384"
      },
      "execution_count": 58,
      "outputs": [
        {
          "output_type": "execute_result",
          "data": {
            "text/plain": [
              "43000"
            ]
          },
          "metadata": {},
          "execution_count": 58
        }
      ]
    },
    {
      "cell_type": "code",
      "source": [
        "print(5+8)\n",
        "print(int.__add__(5, 8))"
      ],
      "metadata": {
        "colab": {
          "base_uri": "https://localhost:8080/"
        },
        "id": "mL108V2yDLd0",
        "outputId": "c6b1417a-3c2a-4353-ce60-0a3696f28b78"
      },
      "execution_count": 59,
      "outputs": [
        {
          "output_type": "stream",
          "name": "stdout",
          "text": [
            "13\n",
            "13\n"
          ]
        }
      ]
    },
    {
      "cell_type": "code",
      "source": [
        "str1 = 'Ali'\n",
        "str2 = 'Xosravi'\n",
        "str1 + str2\n",
        "print(str.__add__(str1, str2)) # str1 + str2"
      ],
      "metadata": {
        "colab": {
          "base_uri": "https://localhost:8080/"
        },
        "id": "Wi6WVtC3DcZc",
        "outputId": "c2d065cc-fb15-4b25-e00c-b6136fbbdf65"
      },
      "execution_count": 62,
      "outputs": [
        {
          "output_type": "stream",
          "name": "stdout",
          "text": [
            "AliXosravi\n"
          ]
        }
      ]
    },
    {
      "cell_type": "code",
      "source": [
        "len([4, 6, 5, 7, 8])\n",
        "len(str1)"
      ],
      "metadata": {
        "colab": {
          "base_uri": "https://localhost:8080/"
        },
        "id": "WQI9sJqCD2Hu",
        "outputId": "f4b86306-9f22-4fb3-94e0-c3ec02769181"
      },
      "execution_count": 64,
      "outputs": [
        {
          "output_type": "execute_result",
          "data": {
            "text/plain": [
              "3"
            ]
          },
          "metadata": {},
          "execution_count": 64
        }
      ]
    },
    {
      "cell_type": "code",
      "source": [
        "print(car_1)"
      ],
      "metadata": {
        "colab": {
          "base_uri": "https://localhost:8080/"
        },
        "id": "ypm8hxy_ATnP",
        "outputId": "e69c1ada-80c3-4cf4-8e70-1f6b92db8400"
      },
      "execution_count": 53,
      "outputs": [
        {
          "output_type": "stream",
          "name": "stdout",
          "text": [
            "Toyota, Corolla, 20000\n"
          ]
        }
      ]
    },
    {
      "cell_type": "code",
      "source": [
        "car_1"
      ],
      "metadata": {
        "colab": {
          "base_uri": "https://localhost:8080/"
        },
        "id": "tDYFl1l5AWwH",
        "outputId": "ede37d53-c0e3-48a1-bb5b-0d2c2fee0b12"
      },
      "execution_count": 54,
      "outputs": [
        {
          "output_type": "execute_result",
          "data": {
            "text/plain": [
              "Car('Toyota', 'Corolla', 20000)"
            ]
          },
          "metadata": {},
          "execution_count": 54
        }
      ]
    },
    {
      "cell_type": "code",
      "source": [
        "car_3 = Car('Toyota', 'Corolla', 20000)"
      ],
      "metadata": {
        "id": "z-Sk3gOiBMoU"
      },
      "execution_count": 55,
      "outputs": []
    },
    {
      "cell_type": "code",
      "source": [],
      "metadata": {
        "id": "YLm5LvRJCVHs"
      },
      "execution_count": null,
      "outputs": []
    }
  ]
}